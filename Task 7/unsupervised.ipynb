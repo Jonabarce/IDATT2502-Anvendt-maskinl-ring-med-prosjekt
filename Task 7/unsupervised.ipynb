{
 "cells": [
  {
   "cell_type": "code",
   "execution_count": null,
   "id": "initial_id",
   "metadata": {
    "collapsed": true,
    "is_executing": true
   },
   "outputs": [],
   "source": [
    "import pandas as pd\n",
    "from sklearn.preprocessing import LabelEncoder\n",
    "from sklearn.cluster import KMeans\n",
    "from sklearn.metrics import silhouette_score\n",
    "import matplotlib.pyplot as plt\n",
    "from sklearn.decomposition import PCA"
   ]
  },
  {
   "cell_type": "code",
   "execution_count": null,
   "outputs": [],
   "source": [
    "def load_data():\n",
    "    # Definer datasett-URL og kolonnenavn\n",
    "    url = \"https://archive.ics.uci.edu/ml/machine-learning-databases/mushroom/agaricus-lepiota.data\"\n",
    "    column_names = [\"class\", \"cap-shape\", \"cap-surface\", \"cap-color\", \"bruises\", \"odor\", \"gill-attachment\",\n",
    "                    \"gill-spacing\", \"gill-size\", \"gill-color\", \"stalk-shape\", \"stalk-root\", \"stalk-surface-above-ring\",\n",
    "                    \"stalk-surface-below-ring\", \"stalk-color-above-ring\", \"stalk-color-below-ring\", \"veil-type\",\n",
    "                    \"veil-color\", \"ring-number\", \"ring-type\", \"spore-print-color\", \"population\", \"habitat\"]\n",
    "\n",
    "    # Last ned datasettet fra URL-en\n",
    "    data = pd.read_csv(url, names=column_names)\n",
    "\n",
    "    # Konverter kategoriske data til numeriske data\n",
    "    label_enc = LabelEncoder()\n",
    "    for column in data.columns:\n",
    "        data[column] = label_enc.fit_transform(data[column])\n",
    "\n",
    "    return data"
   ],
   "metadata": {
    "collapsed": false,
    "is_executing": true
   },
   "id": "56f07ecbf18801e"
  },
  {
   "cell_type": "code",
   "execution_count": null,
   "outputs": [],
   "source": [
    "# Last ned data\n",
    "data = load_data()\n",
    "\n",
    "# Initialiser en liste for å lagre Silhouette Scores for hver k\n",
    "sil_scores = []\n",
    "# Definer k-verdier som skal testes (fra 2 til 30)\n",
    "k_values = list(range(2, 31))\n",
    "\n",
    "# Kjør k-means algoritmen med forskjellige k-verdier og beregn Silhouette Scores\n",
    "for k in k_values:\n",
    "    kmeans = KMeans(n_clusters=k)\n",
    "    kmeans.fit(data)\n",
    "    labels = kmeans.labels_\n",
    "    sil_scores.append(silhouette_score(data, labels))"
   ],
   "metadata": {
    "collapsed": false,
    "is_executing": true
   },
   "id": "df5e1bd61d5b67df"
  },
  {
   "cell_type": "code",
   "execution_count": null,
   "outputs": [],
   "source": [
    "# Plott Silhouette Scores mot antall klynger\n",
    "plt.figure(figsize=(10, 6))\n",
    "plt.plot(k_values, sil_scores, marker='o')\n",
    "plt.xlabel('Antall klynger')\n",
    "plt.ylabel('Silhouette Score')\n",
    "plt.title('Silhouette Score vs Antall klynger')\n",
    "plt.show()"
   ],
   "metadata": {
    "collapsed": false
   },
   "id": "3174ac684920d5db"
  },
  {
   "cell_type": "code",
   "execution_count": null,
   "outputs": [],
   "source": [
    "# Velg optimal k med høyeste Silhouette Score\n",
    "opt_k = k_values[sil_scores.index(max(sil_scores))]\n",
    "kmeans = KMeans(n_clusters=opt_k)\n",
    "kmeans.fit(data)\n",
    "labels = kmeans.labels_"
   ],
   "metadata": {
    "collapsed": false
   },
   "id": "d9f0f5f6195648d6"
  },
  {
   "cell_type": "code",
   "execution_count": null,
   "outputs": [],
   "source": [
    "# Bruk PCA for å redusere dimensjonene av dataene til 2D for visualisering\n",
    "pca = PCA(n_components=2)\n",
    "data_pca = pca.fit_transform(data)"
   ],
   "metadata": {
    "collapsed": false
   },
   "id": "ebc418da6a3451a1"
  },
  {
   "cell_type": "code",
   "execution_count": null,
   "outputs": [],
   "source": [
    "# Visualiser klyngene i 2D\n",
    "plt.figure(figsize=(10, 6))\n",
    "plt.scatter(data_pca[:, 0], data_pca[:, 1], c=labels, cmap='rainbow', alpha=0.7, edgecolors='b')\n",
    "plt.title('2D PCA av soppdatasett')\n",
    "plt.show()"
   ],
   "metadata": {
    "collapsed": false
   },
   "id": "28a3948e140a9731"
  }
 ],
 "metadata": {
  "kernelspec": {
   "display_name": "Python 3",
   "language": "python",
   "name": "python3"
  },
  "language_info": {
   "codemirror_mode": {
    "name": "ipython",
    "version": 2
   },
   "file_extension": ".py",
   "mimetype": "text/x-python",
   "name": "python",
   "nbconvert_exporter": "python",
   "pygments_lexer": "ipython2",
   "version": "2.7.6"
  }
 },
 "nbformat": 4,
 "nbformat_minor": 5
}
