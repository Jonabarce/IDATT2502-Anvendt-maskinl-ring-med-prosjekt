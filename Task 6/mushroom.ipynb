{
 "cells": [
  {
   "cell_type": "code",
   "execution_count": 9,
   "id": "initial_id",
   "metadata": {
    "collapsed": true,
    "ExecuteTime": {
     "end_time": "2023-10-04T13:34:48.024093606Z",
     "start_time": "2023-10-04T13:34:47.982556396Z"
    }
   },
   "outputs": [],
   "source": [
    "import pandas as pd\n",
    "from sklearn.preprocessing import LabelEncoder\n",
    "from sklearn.ensemble import RandomForestClassifier\n",
    "from sklearn.decomposition import PCA"
   ]
  },
  {
   "cell_type": "code",
   "execution_count": 10,
   "outputs": [],
   "source": [
    "# Load the UCI mushroom dataset\n",
    "def load_data():\n",
    "    # Define dataset URL and column names\n",
    "    url = \"https://archive.ics.uci.edu/ml/machine-learning-databases/mushroom/agaricus-lepiota.data\"\n",
    "    column_names = [\"class\", \"cap-shape\", \"cap-surface\", \"cap-color\", \"bruises\", \"odor\", \"gill-attachment\",\n",
    "                   \"gill-spacing\",\n",
    "                   \"gill-size\", \"gill-color\", \"stalk-shape\", \"stalk-root\", \"stalk-surface-above-ring\",\n",
    "                   \"stalk-surface-below-ring\", \"stalk-color-above-ring\", \"stalk-color-below-ring\", \"veil-type\",\n",
    "                   \"veil-color\",\n",
    "                   \"ring-number\", \"ring-type\", \"spore-print-color\", \"population\", \"habitat\"]\n",
    "\n",
    "    # Load dataset from the URL\n",
    "    return pd.read_csv(url, names=column_names)"
   ],
   "metadata": {
    "collapsed": false,
    "ExecuteTime": {
     "end_time": "2023-10-04T13:34:48.394186020Z",
     "start_time": "2023-10-04T13:34:48.388795360Z"
    }
   },
   "id": "62320b65c919a5d1"
  },
  {
   "cell_type": "code",
   "execution_count": 11,
   "outputs": [],
   "source": [
    "# Convert categorical columns to numeric labels\n",
    "def encode_data(data):\n",
    "    label_encoders = {}\n",
    "    for col in data.columns:\n",
    "        le = LabelEncoder()\n",
    "        data[col] = le.fit_transform(data[col])\n",
    "        label_encoders[col] = le\n",
    "    return data, label_encoders"
   ],
   "metadata": {
    "collapsed": false,
    "ExecuteTime": {
     "end_time": "2023-10-04T13:34:48.877445046Z",
     "start_time": "2023-10-04T13:34:48.870745864Z"
    }
   },
   "id": "e7eea3a6d75bbd02"
  },
  {
   "cell_type": "code",
   "execution_count": 12,
   "outputs": [],
   "source": [
    "# Determine and print the importance of each feature using RandomForest\n",
    "def feature_importance_analysis(X, y):\n",
    "    print(\"Feature Importance Analysis:\")\n",
    "    print(\"-----------------------------\")\n",
    "    clf = RandomForestClassifier()\n",
    "    clf.fit(X, y)\n",
    "    feature_importances = clf.feature_importances_\n",
    "    features = sorted(zip(X.columns, feature_importances), key=lambda x: x[1], reverse=True)\n",
    "    for feature, importance in features:\n",
    "        print(f\"{feature}: {importance}\")"
   ],
   "metadata": {
    "collapsed": false,
    "ExecuteTime": {
     "end_time": "2023-10-04T13:34:49.172328354Z",
     "start_time": "2023-10-04T13:34:49.169530354Z"
    }
   },
   "id": "e6fccd143351e50b"
  },
  {
   "cell_type": "code",
   "execution_count": 13,
   "outputs": [],
   "source": [
    "# Perform PCA and print the explained variance of each component\n",
    "def pca_analysis(X):\n",
    "    print(\"\\nPCA Analysis:\")\n",
    "    print(\"-------------\")\n",
    "    pca = PCA(n_components=5)\n",
    "    principalComponents = pca.fit_transform(X)\n",
    "    explained_variance = pca.explained_variance_ratio_\n",
    "    for i, var in enumerate(explained_variance):\n",
    "        print(f\"Principal Component {i + 1}: {var * 100:.2f}%\")\n",
    "    return pca"
   ],
   "metadata": {
    "collapsed": false,
    "ExecuteTime": {
     "end_time": "2023-10-04T13:34:49.377445938Z",
     "start_time": "2023-10-04T13:34:49.372535069Z"
    }
   },
   "id": "1c28194700435b31"
  },
  {
   "cell_type": "code",
   "execution_count": 14,
   "outputs": [],
   "source": [
    "# Print how much each feature contributes to the principal components\n",
    "def pca_loadings_analysis(X, pca):\n",
    "    print(\"\\nPCA Loadings Analysis:\")\n",
    "    print(\"----------------------\")\n",
    "    components = pd.DataFrame(pca.components_, columns=X.columns, index=[f'PC-{i+1}' for i in range(pca.n_components_)]).T\n",
    "    for i in range(pca.n_components_):\n",
    "        print(f\"\\nLoadings for Principal Component {i+1}:\")\n",
    "        sorted_loadings = components[f'PC-{i+1}'].abs().sort_values(ascending=False)\n",
    "        print(sorted_loadings)"
   ],
   "metadata": {
    "collapsed": false,
    "ExecuteTime": {
     "end_time": "2023-10-04T13:34:49.577308360Z",
     "start_time": "2023-10-04T13:34:49.575408459Z"
    }
   },
   "id": "f54299901cced329"
  },
  {
   "cell_type": "code",
   "execution_count": 17,
   "outputs": [],
   "source": [
    "def main():\n",
    "    # Load and encode the dataset\n",
    "    data = load_data()\n",
    "    data, encoders = encode_data(data)\n",
    "\n",
    "    X = data.drop('class', axis=1)\n",
    "    y = data['class']\n",
    "\n",
    "    # Feature importance analysis\n",
    "    feature_importance_analysis(X, y)\n",
    "\n",
    "    # PCA analysis\n",
    "    pca = pca_analysis(X)\n",
    "\n",
    "    # PCA loadings analysis\n",
    "    pca_loadings_analysis(X, pca)\n"
   ],
   "metadata": {
    "collapsed": false,
    "ExecuteTime": {
     "end_time": "2023-10-04T13:35:08.297918636Z",
     "start_time": "2023-10-04T13:35:08.287757281Z"
    }
   },
   "id": "170f1637c36f8e48"
  },
  {
   "cell_type": "code",
   "execution_count": 18,
   "outputs": [
    {
     "name": "stdout",
     "output_type": "stream",
     "text": [
      "Feature Importance Analysis:\n",
      "-----------------------------\n",
      "gill-color: 0.13654163991473123\n",
      "odor: 0.13458000457672026\n",
      "spore-print-color: 0.1074852919448832\n",
      "gill-size: 0.10460515056764882\n",
      "ring-type: 0.06503611962747874\n",
      "population: 0.061342797350018304\n",
      "bruises: 0.05615214185654945\n",
      "stalk-surface-above-ring: 0.055199069745673845\n",
      "stalk-root: 0.048619540841300456\n",
      "gill-spacing: 0.04416074930098593\n",
      "stalk-surface-below-ring: 0.0427220176457448\n",
      "habitat: 0.03264191195173173\n",
      "stalk-shape: 0.027103901995400803\n",
      "stalk-color-below-ring: 0.0240943035079537\n",
      "stalk-color-above-ring: 0.019515134798310643\n",
      "cap-color: 0.01208201200968431\n",
      "ring-number: 0.010056330704467495\n",
      "cap-surface: 0.008825119876590884\n",
      "cap-shape: 0.005664845265453694\n",
      "veil-color: 0.002499219372250277\n",
      "gill-attachment: 0.0010726971464216\n",
      "veil-type: 0.0\n",
      "\n",
      "PCA Analysis:\n",
      "-------------\n",
      "Principal Component 1: 33.76%\n",
      "Principal Component 2: 16.58%\n",
      "Principal Component 3: 12.29%\n",
      "Principal Component 4: 6.80%\n",
      "Principal Component 5: 5.83%\n",
      "\n",
      "PCA Loadings Analysis:\n",
      "----------------------\n",
      "\n",
      "Loadings for Principal Component 1:\n",
      "gill-color                  0.767356\n",
      "spore-print-color           0.411164\n",
      "ring-type                   0.325429\n",
      "odor                        0.207276\n",
      "cap-color                   0.194265\n",
      "stalk-root                  0.113731\n",
      "habitat                     0.103869\n",
      "stalk-color-below-ring      0.087708\n",
      "stalk-color-above-ring      0.085740\n",
      "gill-size                   0.073034\n",
      "cap-surface                 0.064184\n",
      "bruises                     0.063037\n",
      "stalk-shape                 0.040046\n",
      "stalk-surface-below-ring    0.029963\n",
      "stalk-surface-above-ring    0.023318\n",
      "population                  0.013827\n",
      "cap-shape                   0.005183\n",
      "veil-color                  0.004239\n",
      "gill-attachment             0.003411\n",
      "gill-spacing                0.002908\n",
      "ring-number                 0.002767\n",
      "veil-type                   0.000000\n",
      "Name: PC-1, dtype: float64\n",
      "\n",
      "Loadings for Principal Component 2:\n",
      "cap-color                   0.622992\n",
      "gill-color                  0.464490\n",
      "odor                        0.458487\n",
      "spore-print-color           0.322904\n",
      "stalk-color-above-ring      0.164808\n",
      "stalk-color-below-ring      0.150678\n",
      "habitat                     0.085656\n",
      "stalk-shape                 0.074495\n",
      "stalk-root                  0.070061\n",
      "stalk-surface-below-ring    0.066267\n",
      "stalk-surface-above-ring    0.062777\n",
      "ring-type                   0.052742\n",
      "bruises                     0.044170\n",
      "ring-number                 0.018525\n",
      "gill-size                   0.018362\n",
      "cap-shape                   0.008184\n",
      "veil-color                  0.007356\n",
      "gill-spacing                0.006738\n",
      "population                  0.006268\n",
      "gill-attachment             0.005995\n",
      "cap-surface                 0.002342\n",
      "veil-type                   0.000000\n",
      "Name: PC-2, dtype: float64\n",
      "\n",
      "Loadings for Principal Component 3:\n",
      "stalk-color-above-ring      0.546022\n",
      "stalk-color-below-ring      0.545756\n",
      "cap-color                   0.494906\n",
      "population                  0.223859\n",
      "spore-print-color           0.217113\n",
      "stalk-root                  0.134615\n",
      "gill-color                  0.114336\n",
      "habitat                     0.099439\n",
      "cap-shape                   0.083917\n",
      "gill-spacing                0.055624\n",
      "cap-surface                 0.047105\n",
      "stalk-surface-below-ring    0.043884\n",
      "odor                        0.043756\n",
      "stalk-surface-above-ring    0.039118\n",
      "gill-size                   0.033350\n",
      "ring-type                   0.027584\n",
      "bruises                     0.024157\n",
      "ring-number                 0.021497\n",
      "stalk-shape                 0.008717\n",
      "veil-color                  0.003878\n",
      "gill-attachment             0.003357\n",
      "veil-type                   0.000000\n",
      "Name: PC-3, dtype: float64\n",
      "\n",
      "Loadings for Principal Component 4:\n",
      "spore-print-color           0.478464\n",
      "stalk-color-below-ring      0.374677\n",
      "habitat                     0.370667\n",
      "cap-color                   0.359121\n",
      "stalk-color-above-ring      0.327503\n",
      "gill-color                  0.280310\n",
      "cap-shape                   0.257170\n",
      "odor                        0.173285\n",
      "stalk-root                  0.157718\n",
      "ring-type                   0.148740\n",
      "cap-surface                 0.116927\n",
      "population                  0.097224\n",
      "stalk-shape                 0.084132\n",
      "ring-number                 0.052297\n",
      "bruises                     0.030200\n",
      "stalk-surface-below-ring    0.025411\n",
      "veil-color                  0.017798\n",
      "gill-attachment             0.016208\n",
      "gill-spacing                0.014362\n",
      "gill-size                   0.005633\n",
      "stalk-surface-above-ring    0.004505\n",
      "veil-type                   0.000000\n",
      "Name: PC-4, dtype: float64\n",
      "\n",
      "Loadings for Principal Component 5:\n",
      "habitat                     0.702951\n",
      "odor                        0.533559\n",
      "cap-color                   0.398006\n",
      "cap-surface                 0.132709\n",
      "stalk-color-above-ring      0.100478\n",
      "stalk-color-below-ring      0.098952\n",
      "population                  0.083610\n",
      "stalk-shape                 0.068323\n",
      "ring-type                   0.062667\n",
      "gill-color                  0.050093\n",
      "cap-shape                   0.047899\n",
      "gill-spacing                0.038928\n",
      "bruises                     0.037017\n",
      "stalk-root                  0.026623\n",
      "stalk-surface-below-ring    0.025495\n",
      "ring-number                 0.023710\n",
      "stalk-surface-above-ring    0.005252\n",
      "veil-color                  0.004345\n",
      "gill-size                   0.003548\n",
      "gill-attachment             0.002493\n",
      "spore-print-color           0.002354\n",
      "veil-type                   0.000000\n",
      "Name: PC-5, dtype: float64\n"
     ]
    }
   ],
   "source": [
    "if __name__ == \"__main__\":\n",
    "    main()\n"
   ],
   "metadata": {
    "collapsed": false,
    "ExecuteTime": {
     "end_time": "2023-10-04T13:35:14.139000503Z",
     "start_time": "2023-10-04T13:35:12.387724362Z"
    }
   },
   "id": "574448a106a7c7fb"
  },
  {
   "cell_type": "code",
   "execution_count": null,
   "outputs": [],
   "source": [],
   "metadata": {
    "collapsed": false
   },
   "id": "fba51a96f7bd0967"
  }
 ],
 "metadata": {
  "kernelspec": {
   "display_name": "Python 3",
   "language": "python",
   "name": "python3"
  },
  "language_info": {
   "codemirror_mode": {
    "name": "ipython",
    "version": 2
   },
   "file_extension": ".py",
   "mimetype": "text/x-python",
   "name": "python",
   "nbconvert_exporter": "python",
   "pygments_lexer": "ipython2",
   "version": "2.7.6"
  }
 },
 "nbformat": 4,
 "nbformat_minor": 5
}
